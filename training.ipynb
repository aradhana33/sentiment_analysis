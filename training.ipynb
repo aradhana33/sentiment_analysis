{
  "cells": [
    {
      "cell_type": "code",
      "execution_count": 1,
      "metadata": {
        "id": "-lLJJMYjpLpk"
      },
      "outputs": [],
      "source": [
        "import pandas as pd\n",
        "import numpy as np\n",
        "\n",
        "from sklearn.model_selection import train_test_split, cross_val_score, GridSearchCV, StratifiedKFold\n",
        "from sklearn.feature_extraction.text import TfidfVectorizer\n",
        "from sklearn.svm import SVC\n",
        "from sklearn.metrics import accuracy_score, precision_score, recall_score, f1_score, classification_report"
      ]
    },
    {
      "cell_type": "code",
      "execution_count": 2,
      "metadata": {
        "id": "ch_SZKBfpLpn"
      },
      "outputs": [],
      "source": [
        "column = ['sentimen', 'komen']\n"
      ]
    },
    {
      "cell_type": "code",
      "execution_count": 3,
      "metadata": {
        "colab": {
          "base_uri": "https://localhost:8080/"
        },
        "id": "0gTniyM4pLpo",
        "outputId": "ba79dffa-64f5-4326-8893-3767b0f3fb89"
      },
      "outputs": [
        {
          "output_type": "stream",
          "name": "stderr",
          "text": [
            "<ipython-input-3-f65de8cd75bc>:2: FutureWarning: DataFrame.set_axis 'inplace' keyword is deprecated and will be removed in a future version. Use `obj = obj.set_axis(..., copy=False)` instead\n",
            "  df_training.set_axis(column, axis=1, inplace=True)\n"
          ]
        }
      ],
      "source": [
        "df_training = pd.read_csv('data_training_90.txt', sep='\\t', header=None)\n",
        "df_training.set_axis(column, axis=1, inplace=True)"
      ]
    },
    {
      "cell_type": "code",
      "execution_count": 4,
      "metadata": {
        "colab": {
          "base_uri": "https://localhost:8080/"
        },
        "id": "At2Z3LrZpLpp",
        "outputId": "b12d5f49-0661-45e1-ffce-c9ae1c43d347"
      },
      "outputs": [
        {
          "output_type": "stream",
          "name": "stderr",
          "text": [
            "<ipython-input-4-440636312ca4>:2: FutureWarning: DataFrame.set_axis 'inplace' keyword is deprecated and will be removed in a future version. Use `obj = obj.set_axis(..., copy=False)` instead\n",
            "  df_testing.set_axis(column, axis=1, inplace=True)\n"
          ]
        }
      ],
      "source": [
        "df_testing = pd.read_csv('data_testing_10.txt', sep='\\t', header=None)\n",
        "df_testing.set_axis(column, axis=1, inplace=True)\n"
      ]
    },
    {
      "cell_type": "code",
      "source": [
        "X_trainval, X_test, y_trainval, y_test = df_training['komen'], df_testing['komen'], df_training['sentimen'], df_testing['sentimen']\n"
      ],
      "metadata": {
        "id": "9sXPopSe0zSQ"
      },
      "execution_count": 5,
      "outputs": []
    },
    {
      "cell_type": "code",
      "execution_count": 6,
      "metadata": {
        "id": "V1h1B0LnpLpp"
      },
      "outputs": [],
      "source": [
        "\n",
        "tfidf_vectorizer = TfidfVectorizer()\n",
        "X_trainval_tfidf = tfidf_vectorizer.fit_transform(X_trainval)\n",
        "X_test_tfidf = tfidf_vectorizer.transform(X_test)\n",
        "feature = pd.DataFrame(X_trainval_tfidf.todense().T,\n",
        "                       index = tfidf_vectorizer.get_feature_names_out(),\n",
        "                       columns=[f'D{i+1}' for i in range(len(X_trainval))])\n",
        "\n",
        "\n",
        "\n",
        "\n"
      ]
    },
    {
      "cell_type": "code",
      "execution_count": 7,
      "metadata": {
        "id": "-DnXwMaxpLpq",
        "colab": {
          "base_uri": "https://localhost:8080/"
        },
        "outputId": "ee6e44f9-1f9d-4a62-aba6-e6fb656fea80"
      },
      "outputs": [
        {
          "output_type": "stream",
          "name": "stdout",
          "text": [
            "Average accuracy during cross-validation: 0.8722222222222223\n",
            "Accuracy on the test set: 0.925\n",
            "Precision on the test set: 0.925\n",
            "Recall on the test set: 0.925\n",
            "F1 score on the test set: 0.925\n",
            "{'0': {'precision': 1.0, 'recall': 0.85, 'f1-score': 0.9189189189189189, 'support': 20}, '1': {'precision': 0.8695652173913043, 'recall': 1.0, 'f1-score': 0.9302325581395349, 'support': 20}, 'accuracy': 0.925, 'macro avg': {'precision': 0.9347826086956521, 'recall': 0.925, 'f1-score': 0.9245757385292268, 'support': 40}, 'weighted avg': {'precision': 0.9347826086956521, 'recall': 0.925, 'f1-score': 0.9245757385292268, 'support': 40}}\n"
          ]
        }
      ],
      "source": [
        "# Step 4: Training and Hyperparameter Tuning\n",
        "param_grid = {\n",
        "            #   'gamma': [0.0001, 0.001, 0.01, 0.1, 1, 10, 100, 1000],\n",
        "            #   'C': [0.0001, 0.001, 0.01, 0.1, 1, 10, 100, 1000],\n",
        "              'gamma': [100],\n",
        "              'C': [0.0001],\n",
        "              'kernel': ['poly'],\n",
        "              'max_iter': [10000],\n",
        "              'degree':[2],\n",
        "              'random_state' : [42]}\n",
        "svm_model = SVC()\n",
        "grid_search = GridSearchCV(svm_model, param_grid, cv=10, n_jobs=-1)\n",
        "grid_search.fit(X_trainval_tfidf, y_trainval)\n",
        "best_svm_model = grid_search.best_estimator_\n",
        "best_svm_model\n",
        "X_trainval = pd.array(X_trainval)\n",
        "y_trainval = pd.array(y_trainval)\n",
        "k_fold = 10\n",
        "skf = StratifiedKFold(n_splits=k_fold)\n",
        "\n",
        "target_names = ['negatif', 'positif']\n",
        "acc_score = []\n",
        "kfold_report=[]\n",
        "\n",
        "kf_model = best_svm_model\n",
        "\n",
        "kf_tfidf_vectorizer = TfidfVectorizer(min_df=2,max_df=0.9)\n",
        "\n",
        "for train_index, test_index in skf.split(X_trainval, y_trainval):\n",
        "        kf_x_train, kf_x_test = X_trainval[train_index], X_trainval[test_index]\n",
        "        kf_y_train, kf_y_test = y_trainval[train_index], y_trainval[test_index]\n",
        "\n",
        "        # Fit and transform the training data using TF-IDF\n",
        "        kf_x_train_tfidf = kf_tfidf_vectorizer.fit_transform(kf_x_train)\n",
        "\n",
        "        # Transform the test data using the fitted TF-IDF vectorizer\n",
        "        kf_x_test_tfidf = kf_tfidf_vectorizer.transform(kf_x_test)\n",
        "\n",
        "        # Train the SVM model on the TF-IDF features\n",
        "        kf_model.fit(kf_x_train_tfidf, kf_y_train)\n",
        "\n",
        "        pred_values = kf_model.predict(kf_x_test_tfidf)\n",
        "\n",
        "        acc = accuracy_score(kf_y_test, pred_values)\n",
        "\n",
        "        # trained_model.append(classifier)\n",
        "        acc_score.append(acc)\n",
        "        kfold_report.append(classification_report(kf_y_test, pred_values, target_names=target_names, digits=4, output_dict=True))\n",
        "\n",
        "average_accuracy = np.mean(acc_score)\n",
        "max_accuracy = max(acc_score)\n",
        "\n",
        "\n",
        "\n",
        "# Step 6: Final Testing\n",
        "testing_model = best_svm_model\n",
        "testing_model.fit(X_trainval_tfidf, y_trainval)\n",
        "\n",
        "final_predictions = testing_model.predict(X_test_tfidf)\n",
        "accuracy_test = accuracy_score(y_test, final_predictions)\n",
        "precision_test = precision_score(y_test, final_predictions, average='micro')\n",
        "recall_test = recall_score(y_test, final_predictions, average='micro')\n",
        "f1_test = f1_score(y_test, final_predictions, average='micro')\n",
        "\n",
        "# Print the results\n",
        "print(\"Average accuracy during cross-validation:\", average_accuracy)\n",
        "print(\"Accuracy on the test set:\", accuracy_test)\n",
        "print(\"Precision on the test set:\", precision_test)\n",
        "print(\"Recall on the test set:\", recall_test)\n",
        "print(\"F1 score on the test set:\", f1_test)\n",
        "print(classification_report(y_true=y_test, y_pred=final_predictions, digits=4, output_dict=True))"
      ]
    },
    {
      "cell_type": "code",
      "source": [
        "from sklearn.ensemble import RandomForestClassifier\n",
        "from sklearn.feature_extraction.text import TfidfVectorizer\n",
        "from sklearn.model_selection import StratifiedKFold, GridSearchCV\n",
        "from sklearn.metrics import accuracy_score, precision_score, recall_score, f1_score, classification_report\n",
        "import pandas as pd\n",
        "\n",
        "\n",
        "# Hyperparameter Tuning for Random Forest\n",
        "param_grid = {\n",
        "    'n_estimators': [50, 100, 200],\n",
        "    'max_depth': [None, 10, 20, 30],\n",
        "    'min_samples_split': [2, 5, 10],\n",
        "    'min_samples_leaf': [1, 2, 4],\n",
        "    'random_state': [42]\n",
        "}\n",
        "\n",
        "rf_model = RandomForestClassifier()\n",
        "grid_search = GridSearchCV(rf_model, param_grid, cv=5, n_jobs=-1)  # Reduced to 5 folds\n",
        "grid_search.fit(X_trainval_tfidf, y_trainval)\n",
        "best_rf_model = grid_search.best_estimator_\n",
        "\n",
        "# Cross-validation using StratifiedKFold\n",
        "k_fold = 5\n",
        "skf = StratifiedKFold(n_splits=k_fold)\n",
        "\n",
        "target_names = ['negatif', 'positif']\n",
        "acc_score = []\n",
        "kfold_report = []\n",
        "\n",
        "kf_model = best_rf_model\n",
        "\n",
        "for train_index, test_index in skf.split(X_trainval_tfidf, y_trainval):\n",
        "    kf_x_train, kf_x_test = X_trainval_tfidf[train_index], X_trainval_tfidf[test_index]\n",
        "    kf_y_train, kf_y_test = y_trainval[train_index], y_trainval[test_index]\n",
        "\n",
        "    # Train the Random Forest model on the TF-IDF features\n",
        "    kf_model.fit(kf_x_train, kf_y_train)\n",
        "\n",
        "    pred_values = kf_model.predict(kf_x_test)\n",
        "\n",
        "    acc = accuracy_score(kf_y_test, pred_values)\n",
        "\n",
        "    acc_score.append(acc)\n",
        "    kfold_report.append(classification_report(kf_y_test, pred_values, target_names=target_names, digits=4, output_dict=True))\n",
        "\n",
        "average_accuracy = np.mean(acc_score)\n",
        "max_accuracy = max(acc_score)\n",
        "\n",
        "# Final Testing\n",
        "final_predictions = kf_model.predict(X_test_tfidf)\n",
        "accuracy_test = accuracy_score(y_test, final_predictions)\n",
        "precision_test = precision_score(y_test, final_predictions, average='micro')\n",
        "recall_test = recall_score(y_test, final_predictions, average='micro')\n",
        "f1_test = f1_score(y_test, final_predictions, average='micro')\n",
        "\n",
        "# Print the results\n",
        "print(\"Average accuracy during cross-validation:\", average_accuracy)\n",
        "print(\"Accuracy on the test set:\", accuracy_test)\n",
        "print(\"Precision on the test set:\", precision_test)\n",
        "print(\"Recall on the test set:\", recall_test)\n",
        "print(\"F1 score on the test set:\", f1_test)\n",
        "print(classification_report(y_true=y_test, y_pred=final_predictions, digits=4, target_names=target_names, output_dict=True))\n"
      ],
      "metadata": {
        "colab": {
          "base_uri": "https://localhost:8080/"
        },
        "id": "tT8a3QJE7f9a",
        "outputId": "c7076194-f447-46b0-90b5-b27478a78d32"
      },
      "execution_count": 8,
      "outputs": [
        {
          "output_type": "stream",
          "name": "stdout",
          "text": [
            "Average accuracy during cross-validation: 0.8416666666666668\n",
            "Accuracy on the test set: 0.825\n",
            "Precision on the test set: 0.825\n",
            "Recall on the test set: 0.825\n",
            "F1 score on the test set: 0.825\n",
            "{'negatif': {'precision': 0.8823529411764706, 'recall': 0.75, 'f1-score': 0.8108108108108107, 'support': 20}, 'positif': {'precision': 0.782608695652174, 'recall': 0.9, 'f1-score': 0.8372093023255814, 'support': 20}, 'accuracy': 0.825, 'macro avg': {'precision': 0.8324808184143222, 'recall': 0.825, 'f1-score': 0.824010056568196, 'support': 40}, 'weighted avg': {'precision': 0.8324808184143222, 'recall': 0.825, 'f1-score': 0.824010056568196, 'support': 40}}\n"
          ]
        }
      ]
    },
    {
      "cell_type": "code",
      "source": [
        "import pandas as pd\n",
        "import numpy as np\n",
        "from sklearn.model_selection import train_test_split\n",
        "from sklearn.feature_extraction.text import TfidfVectorizer\n",
        "from sklearn.svm import SVC\n",
        "from sklearn.model_selection import StratifiedKFold\n",
        "from sklearn.metrics import accuracy_score, precision_score, recall_score, f1_score, classification_report\n",
        "from tensorflow.keras.models import Sequential\n",
        "from tensorflow.keras.layers import Embedding, LSTM, Dense\n",
        "from tensorflow.keras.preprocessing.text import Tokenizer\n",
        "from tensorflow.keras.preprocessing.sequence import pad_sequences\n",
        "\n",
        "# Tokenize the text data\n",
        "tokenizer = Tokenizer()\n",
        "tokenizer.fit_on_texts(X_trainval)\n",
        "X_trainval_sequences = tokenizer.texts_to_sequences(X_trainval)\n",
        "X_test_sequences = tokenizer.texts_to_sequences(X_test)\n",
        "\n",
        "# Pad sequences to ensure equal length\n",
        "max_len = max(max(len(seq) for seq in X_trainval_sequences), max(len(seq) for seq in X_test_sequences))\n",
        "X_trainval_padded = pad_sequences(X_trainval_sequences, maxlen=max_len, padding='post')\n",
        "X_test_padded = pad_sequences(X_test_sequences, maxlen=max_len, padding='post')\n",
        "\n",
        "# Convert Pandas Series to NumPy arrays\n",
        "X_trainval_padded = np.array(X_trainval_padded)\n",
        "X_test_padded = np.array(X_test_padded)\n",
        "y_trainval = np.array(y_trainval)\n",
        "y_test = np.array(y_test)\n",
        "\n",
        "# Define the RNN model\n",
        "model = Sequential()\n",
        "model.add(Embedding(input_dim=len(tokenizer.word_index) + 1, output_dim=100, input_length=max_len))\n",
        "model.add(LSTM(100, dropout=0.2, recurrent_dropout=0.2))\n",
        "model.add(Dense(1, activation='sigmoid'))\n",
        "\n",
        "# Compile the model\n",
        "model.compile(optimizer='adam', loss='binary_crossentropy', metrics=['accuracy'])\n",
        "\n",
        "# Train the model\n",
        "model.fit(X_trainval_padded, y_trainval, epochs=5, batch_size=32, validation_split=0.1)\n",
        "\n",
        "# Evaluate the model on the test set\n",
        "final_predictions_prob = model.predict(X_test_padded)\n",
        "final_predictions = np.round(final_predictions_prob)\n",
        "\n",
        "# Convert predictions to binary (assuming binary classification)\n",
        "final_predictions = np.round(final_predictions)\n",
        "\n",
        "# Print the results\n",
        "print(\"Accuracy on the test set:\", accuracy_score(y_test, final_predictions))\n",
        "print(\"Precision on the test set:\", precision_score(y_test, final_predictions, average='micro'))\n",
        "print(\"Recall on the test set:\", recall_score(y_test, final_predictions, average='micro'))\n",
        "print(\"F1 score on the test set:\", f1_score(y_test, final_predictions, average='micro'))\n",
        "print(classification_report(y_true=y_test, y_pred=final_predictions, digits=4, output_dict=True))\n"
      ],
      "metadata": {
        "colab": {
          "base_uri": "https://localhost:8080/"
        },
        "id": "m4HnHSFgD4jA",
        "outputId": "9c717e0f-8490-4922-e2d5-d46ca7e13ba2"
      },
      "execution_count": 9,
      "outputs": [
        {
          "output_type": "stream",
          "name": "stdout",
          "text": [
            "Epoch 1/5\n",
            "11/11 [==============================] - 7s 189ms/step - loss: 0.6952 - accuracy: 0.4938 - val_loss: 0.6920 - val_accuracy: 0.5556\n",
            "Epoch 2/5\n",
            "11/11 [==============================] - 2s 149ms/step - loss: 0.6937 - accuracy: 0.4907 - val_loss: 0.6930 - val_accuracy: 0.5556\n",
            "Epoch 3/5\n",
            "11/11 [==============================] - 2s 149ms/step - loss: 0.6955 - accuracy: 0.4877 - val_loss: 0.6891 - val_accuracy: 0.5556\n",
            "Epoch 4/5\n",
            "11/11 [==============================] - 2s 147ms/step - loss: 0.6943 - accuracy: 0.4938 - val_loss: 0.6915 - val_accuracy: 0.5556\n",
            "Epoch 5/5\n",
            "11/11 [==============================] - 2s 146ms/step - loss: 0.6932 - accuracy: 0.5000 - val_loss: 0.6927 - val_accuracy: 0.5556\n",
            "2/2 [==============================] - 0s 35ms/step\n",
            "Accuracy on the test set: 0.5\n",
            "Precision on the test set: 0.5\n",
            "Recall on the test set: 0.5\n",
            "F1 score on the test set: 0.5\n",
            "{'0': {'precision': 0.5, 'recall': 1.0, 'f1-score': 0.6666666666666666, 'support': 20}, '1': {'precision': 0.0, 'recall': 0.0, 'f1-score': 0.0, 'support': 20}, 'accuracy': 0.5, 'macro avg': {'precision': 0.25, 'recall': 0.5, 'f1-score': 0.3333333333333333, 'support': 40}, 'weighted avg': {'precision': 0.25, 'recall': 0.5, 'f1-score': 0.3333333333333333, 'support': 40}}\n"
          ]
        },
        {
          "output_type": "stream",
          "name": "stderr",
          "text": [
            "/usr/local/lib/python3.10/dist-packages/sklearn/metrics/_classification.py:1344: UndefinedMetricWarning: Precision and F-score are ill-defined and being set to 0.0 in labels with no predicted samples. Use `zero_division` parameter to control this behavior.\n",
            "  _warn_prf(average, modifier, msg_start, len(result))\n",
            "/usr/local/lib/python3.10/dist-packages/sklearn/metrics/_classification.py:1344: UndefinedMetricWarning: Precision and F-score are ill-defined and being set to 0.0 in labels with no predicted samples. Use `zero_division` parameter to control this behavior.\n",
            "  _warn_prf(average, modifier, msg_start, len(result))\n",
            "/usr/local/lib/python3.10/dist-packages/sklearn/metrics/_classification.py:1344: UndefinedMetricWarning: Precision and F-score are ill-defined and being set to 0.0 in labels with no predicted samples. Use `zero_division` parameter to control this behavior.\n",
            "  _warn_prf(average, modifier, msg_start, len(result))\n"
          ]
        }
      ]
    },
    {
      "cell_type": "code",
      "source": [
        "import pandas as pd\n",
        "from sklearn.model_selection import StratifiedKFold\n",
        "from sklearn.feature_extraction.text import TfidfVectorizer\n",
        "from sklearn.linear_model import LogisticRegression\n",
        "from sklearn.metrics import accuracy_score, precision_score, recall_score, f1_score, classification_report\n",
        "\n",
        "# Logistic Regression model\n",
        "logistic_regression_model = LogisticRegression(max_iter=1000, random_state=42)\n",
        "\n",
        "# Cross-validation\n",
        "k_fold = 10\n",
        "skf = StratifiedKFold(n_splits=k_fold)\n",
        "\n",
        "target_names = ['negatif', 'positif']\n",
        "acc_score = []\n",
        "kfold_report = []\n",
        "\n",
        "for train_index, test_index in skf.split(X_trainval, y_trainval):\n",
        "    kf_x_train, kf_x_test = X_trainval[train_index], X_trainval[test_index]\n",
        "    kf_y_train, kf_y_test = y_trainval[train_index], y_trainval[test_index]\n",
        "\n",
        "    # Fit and transform the training data using TF-IDF\n",
        "    kf_x_train_tfidf = tfidf_vectorizer.transform(kf_x_train)\n",
        "\n",
        "    # Transform the test data using the fitted TF-IDF vectorizer\n",
        "    kf_x_test_tfidf = tfidf_vectorizer.transform(kf_x_test)\n",
        "\n",
        "    # Train the Logistic Regression model on the TF-IDF features\n",
        "    logistic_regression_model.fit(kf_x_train_tfidf, kf_y_train)\n",
        "\n",
        "    # Predictions on the test set\n",
        "    pred_values = logistic_regression_model.predict(kf_x_test_tfidf)\n",
        "\n",
        "    # Calculate accuracy\n",
        "    acc = accuracy_score(kf_y_test, pred_values)\n",
        "\n",
        "    # Append accuracy score and classification report to lists\n",
        "    acc_score.append(acc)\n",
        "    kfold_report.append(classification_report(kf_y_test, pred_values, target_names=target_names, digits=4, output_dict=True))\n",
        "\n",
        "# Calculate average accuracy and maximum accuracy\n",
        "average_accuracy = np.mean(acc_score)\n",
        "max_accuracy = max(acc_score)\n",
        "\n",
        "# Final Testing\n",
        "final_predictions = logistic_regression_model.predict(X_test_tfidf)\n",
        "\n",
        "accuracy_test = accuracy_score(y_test, final_predictions)\n",
        "precision_test = precision_score(y_test, final_predictions, average='micro')\n",
        "recall_test = recall_score(y_test, final_predictions, average='micro')\n",
        "f1_test = f1_score(y_test, final_predictions, average='micro')\n",
        "\n",
        "# Print the results\n",
        "print(\"Average accuracy during cross-validation:\", average_accuracy)\n",
        "print(\"Accuracy on the test set:\", accuracy_test)\n",
        "print(\"Precision on the test set:\", precision_test)\n",
        "print(\"Recall on the test set:\", recall_test)\n",
        "print(\"F1 score on the test set:\", f1_test)\n",
        "print(classification_report(y_true=y_test, y_pred=final_predictions, digits=4, output_dict=True))\n"
      ],
      "metadata": {
        "colab": {
          "base_uri": "https://localhost:8080/"
        },
        "id": "4RBXHtWB-VWX",
        "outputId": "1eb931e3-137b-45a4-f6f4-1d60314cc80a"
      },
      "execution_count": 10,
      "outputs": [
        {
          "output_type": "stream",
          "name": "stdout",
          "text": [
            "Average accuracy during cross-validation: 0.8777777777777779\n",
            "Accuracy on the test set: 0.875\n",
            "Precision on the test set: 0.875\n",
            "Recall on the test set: 0.875\n",
            "F1 score on the test set: 0.875\n",
            "{'0': {'precision': 0.9411764705882353, 'recall': 0.8, 'f1-score': 0.8648648648648648, 'support': 20}, '1': {'precision': 0.8260869565217391, 'recall': 0.95, 'f1-score': 0.8837209302325583, 'support': 20}, 'accuracy': 0.875, 'macro avg': {'precision': 0.8836317135549872, 'recall': 0.875, 'f1-score': 0.8742928975487115, 'support': 40}, 'weighted avg': {'precision': 0.8836317135549873, 'recall': 0.875, 'f1-score': 0.8742928975487114, 'support': 40}}\n"
          ]
        }
      ]
    },
    {
      "cell_type": "code",
      "source": [
        "import pandas as pd\n",
        "from sklearn.model_selection import StratifiedKFold\n",
        "from sklearn.metrics import accuracy_score, precision_score, recall_score, f1_score, classification_report\n",
        "from sklearn.svm import SVC\n",
        "from sklearn.feature_extraction.text import TfidfVectorizer\n",
        "from sklearn.model_selection import GridSearchCV\n",
        "import numpy as np\n",
        "from tensorflow.keras.models import Sequential\n",
        "from tensorflow.keras.layers import Embedding, Conv1D, GlobalMaxPooling1D, Dense\n",
        "from tensorflow.keras.preprocessing.text import Tokenizer\n",
        "from tensorflow.keras.preprocessing.sequence import pad_sequences\n",
        "from tensorflow.keras.utils import to_categorical\n",
        "\n",
        "# Assuming X_trainval, y_trainval, X_test, y_test are your text data and labels\n",
        "\n",
        "# Tokenize the text data\n",
        "tokenizer = Tokenizer()\n",
        "tokenizer.fit_on_texts(X_trainval)\n",
        "X_trainval_sequences = tokenizer.texts_to_sequences(X_trainval)\n",
        "X_test_sequences = tokenizer.texts_to_sequences(X_test)\n",
        "\n",
        "# Pad sequences to ensure equal length\n",
        "max_len = max(max(len(seq) for seq in X_trainval_sequences), max(len(seq) for seq in X_test_sequences))\n",
        "X_trainval_padded = pad_sequences(X_trainval_sequences, maxlen=max_len, padding='post')\n",
        "X_test_padded = pad_sequences(X_test_sequences, maxlen=max_len, padding='post')\n",
        "\n",
        "# Convert labels to one-hot encoding\n",
        "y_trainval_one_hot = to_categorical(y_trainval)\n",
        "y_test_one_hot = to_categorical(y_test)\n",
        "\n",
        "# Define the CNN model\n",
        "model = Sequential()\n",
        "model.add(Embedding(input_dim=len(tokenizer.word_index) + 1, output_dim=100, input_length=max_len))\n",
        "model.add(Conv1D(128, 5, activation='relu'))\n",
        "model.add(GlobalMaxPooling1D())\n",
        "model.add(Dense(2, activation='softmax'))  # Assuming binary classification\n",
        "\n",
        "# Compile the model\n",
        "model.compile(optimizer='adam', loss='categorical_crossentropy', metrics=['accuracy'])\n",
        "\n",
        "# Train the model\n",
        "model.fit(X_trainval_padded, y_trainval_one_hot, epochs=5, batch_size=32, validation_split=0.1)\n",
        "\n",
        "# Evaluate the model on the test set\n",
        "final_predictions_prob = model.predict(X_test_padded)\n",
        "final_predictions = np.argmax(final_predictions_prob, axis=1)\n",
        "\n",
        "accuracy_test = accuracy_score(y_test, final_predictions)\n",
        "precision_test = precision_score(y_test, final_predictions, average='micro')\n",
        "recall_test = recall_score(y_test, final_predictions, average='micro')\n",
        "f1_test = f1_score(y_test, final_predictions, average='micro')\n",
        "\n",
        "# Print the results\n",
        "print(\"Accuracy on the test set:\", accuracy_test)\n",
        "print(\"Precision on the test set:\", precision_test)\n",
        "print(\"Recall on the test set:\", recall_test)\n",
        "print(\"F1 score on the test set:\", f1_test)\n",
        "print(classification_report(y_true=y_test, y_pred=final_predictions, digits=4, output_dict=True))\n"
      ],
      "metadata": {
        "colab": {
          "base_uri": "https://localhost:8080/"
        },
        "id": "-zxZmVg8-fOS",
        "outputId": "9ebec0af-f9c3-4d62-af1b-5a969c8ece1b"
      },
      "execution_count": 11,
      "outputs": [
        {
          "output_type": "stream",
          "name": "stdout",
          "text": [
            "Epoch 1/5\n",
            "11/11 [==============================] - 2s 70ms/step - loss: 0.6941 - accuracy: 0.4938 - val_loss: 0.6873 - val_accuracy: 0.4722\n",
            "Epoch 2/5\n",
            "11/11 [==============================] - 0s 41ms/step - loss: 0.6198 - accuracy: 0.8858 - val_loss: 0.6736 - val_accuracy: 0.5278\n",
            "Epoch 3/5\n",
            "11/11 [==============================] - 0s 42ms/step - loss: 0.5502 - accuracy: 0.9877 - val_loss: 0.6363 - val_accuracy: 0.7500\n",
            "Epoch 4/5\n",
            "11/11 [==============================] - 0s 32ms/step - loss: 0.4515 - accuracy: 0.9969 - val_loss: 0.5814 - val_accuracy: 0.8056\n",
            "Epoch 5/5\n",
            "11/11 [==============================] - 0s 25ms/step - loss: 0.3241 - accuracy: 1.0000 - val_loss: 0.4994 - val_accuracy: 0.8889\n",
            "2/2 [==============================] - 0s 7ms/step\n",
            "Accuracy on the test set: 0.825\n",
            "Precision on the test set: 0.825\n",
            "Recall on the test set: 0.825\n",
            "F1 score on the test set: 0.825\n",
            "{'0': {'precision': 0.8095238095238095, 'recall': 0.85, 'f1-score': 0.8292682926829269, 'support': 20}, '1': {'precision': 0.8421052631578947, 'recall': 0.8, 'f1-score': 0.8205128205128205, 'support': 20}, 'accuracy': 0.825, 'macro avg': {'precision': 0.8258145363408521, 'recall': 0.825, 'f1-score': 0.8248905565978737, 'support': 40}, 'weighted avg': {'precision': 0.825814536340852, 'recall': 0.825, 'f1-score': 0.8248905565978737, 'support': 40}}\n"
          ]
        }
      ]
    }
  ],
  "metadata": {
    "kernelspec": {
      "display_name": "base",
      "language": "python",
      "name": "python3"
    },
    "language_info": {
      "codemirror_mode": {
        "name": "ipython",
        "version": 3
      },
      "file_extension": ".py",
      "mimetype": "text/x-python",
      "name": "python",
      "nbconvert_exporter": "python",
      "pygments_lexer": "ipython3",
      "version": "3.9.10"
    },
    "orig_nbformat": 4,
    "colab": {
      "provenance": []
    }
  },
  "nbformat": 4,
  "nbformat_minor": 0
}